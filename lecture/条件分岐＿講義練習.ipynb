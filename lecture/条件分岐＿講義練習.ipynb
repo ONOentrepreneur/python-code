{
 "cells": [
  {
   "cell_type": "markdown",
   "metadata": {},
   "source": [
    "## 1. 整数Nが入力されます。Nが偶数だったら「偶数です」、奇数だったら「奇数です」と表示させてください"
   ]
  },
  {
   "cell_type": "code",
   "execution_count": null,
   "metadata": {
    "collapsed": true
   },
   "outputs": [],
   "source": [
    "N=int(input(\"n\"))\n",
    "\n",
    "if N%2==0: \n",
    "    print('偶数です')\n",
    "if N%2==1:\n",
    "    print(\"奇数です\")\n",
    "    "
   ]
  },
  {
   "cell_type": "markdown",
   "metadata": {},
   "source": [
    "## 2. 整数Nが入力されます。Nが3の倍数だったら「3の倍数です」、3の倍数でないければ、「3の倍数ではない」と表示させてください"
   ]
  },
  {
   "cell_type": "code",
   "execution_count": 16,
   "metadata": {
    "scrolled": true
   },
   "outputs": [
    {
     "name": "stdout",
     "output_type": "stream",
     "text": [
      "N4\n",
      "3の倍数ではない\n"
     ]
    }
   ],
   "source": [
    "N=int(input('N'))\n",
    "if N%3==0:\n",
    "    print('3の倍数です')\n",
    "if N%3!=0:\n",
    "    print('3の倍数ではない')\n"
   ]
  },
  {
   "cell_type": "markdown",
   "metadata": {
    "collapsed": true
   },
   "source": [
    "## 3.整数Nが入力されます。Nが2の倍数かつ3の倍数だったら「2の倍数かつ3の倍数です」、そうでなかったら「Nが2の倍数かつ3の倍数でない」と表示させてください"
   ]
  },
  {
   "cell_type": "code",
   "execution_count": 18,
   "metadata": {},
   "outputs": [
    {
     "name": "stdout",
     "output_type": "stream",
     "text": [
      "N4\n",
      "2の倍数かつ3の倍数でない\n"
     ]
    }
   ],
   "source": [
    "N=int(input('N'))\n",
    "if N%2==0 and N%3==0:\n",
    "    print(\"2の倍数かつ3の倍数です\")\n",
    "if N%2 != 0 or N%3 != 0:\n",
    "    print(\"2の倍数かつ3の倍数でない\")\n",
    "\n"
   ]
  },
  {
   "cell_type": "markdown",
   "metadata": {
    "collapsed": true
   },
   "source": [
    "## 4.二つの整数MとNが入力されます。Mが2の倍数かつNが3の倍数だったら「Mが2の倍数かつNが3の倍数です」、そうでなかったら「Mが2の倍数かつNが3の倍数ではない」と表示させてください"
   ]
  },
  {
   "cell_type": "code",
   "execution_count": 20,
   "metadata": {},
   "outputs": [
    {
     "name": "stdout",
     "output_type": "stream",
     "text": [
      "M8\n",
      "N15\n",
      "Mが2の倍数かつNが3の倍数です\n"
     ]
    }
   ],
   "source": [
    "M=int(input(\"M\"))\n",
    "N=int(input(\"N\"))\n",
    "if M%2==0 and N%3==0:\n",
    "    print(\"Mが2の倍数かつNが3の倍数です\")\n",
    "if M%2!=0 and N%3!=0:\n",
    "    print(\"Mが2の倍数かつNが3の倍数ではない\")\n"
   ]
  },
  {
   "cell_type": "markdown",
   "metadata": {
    "collapsed": true
   },
   "source": [
    "## 5. 整数Nが入力されます。Nはappleの価格です。Nが100円未満の場合には「安すぎる」、Nが100円以上、200円未満の場合には「安い」、200円以上300円未満の場合には「適正価格」、300円以上400円未満なら、高い」、400円以上なら「高すぎる」と表示させてください\n"
   ]
  },
  {
   "cell_type": "code",
   "execution_count": 1,
   "metadata": {},
   "outputs": [
    {
     "name": "stdout",
     "output_type": "stream",
     "text": [
      "N3\n",
      "安すぎる\n"
     ]
    }
   ],
   "source": [
    "N=int(input(\"N\"))\n",
    "if N<100:\n",
    "    print(\"安すぎる\")\n",
    "if 100<=N<200:\n",
    "    print('安い')\n",
    "if 200<=N<300:\n",
    "    print('適正価格')\n",
    "if 300<=N<400:\n",
    "    print('高い')\n",
    "if 400<=N:\n",
    "    print('高すぎる')   "
   ]
  },
  {
   "cell_type": "markdown",
   "metadata": {
    "collapsed": true
   },
   "source": [
    "## 0をグー、1をチョキ、2をパーとして、じゃんけんをします。自分の手は入力として受け取り、相手の手は乱数を発生させて決めましょう。"
   ]
  },
  {
   "cell_type": "code",
   "execution_count": null,
   "metadata": {
    "collapsed": true
   },
   "outputs": [],
   "source": [
    "my_hand=int(input('ハンド'))\n",
    "opponent_hand = random.randint(0,2)\n",
    "if my_hand\n"
   ]
  }
 ],
 "metadata": {
  "kernelspec": {
   "display_name": "Python 3",
   "language": "python",
   "name": "python3"
  },
  "language_info": {
   "codemirror_mode": {
    "name": "ipython",
    "version": 3
   },
   "file_extension": ".py",
   "mimetype": "text/x-python",
   "name": "python",
   "nbconvert_exporter": "python",
   "pygments_lexer": "ipython3",
   "version": "3.6.1"
  }
 },
 "nbformat": 4,
 "nbformat_minor": 2
}
