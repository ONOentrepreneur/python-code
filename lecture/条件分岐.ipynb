{
 "cells": [
  {
   "cell_type": "markdown",
   "metadata": {},
   "source": [
    "## 1. 整数Nが入力されます。Nが偶数だったら「偶数です」、奇数だったら「奇数です」と表示させてください¶"
   ]
  },
  {
   "cell_type": "code",
   "execution_count": 4,
   "metadata": {},
   "outputs": [
    {
     "name": "stdout",
     "output_type": "stream",
     "text": [
      "N6\n",
      "偶数です\n"
     ]
    }
   ],
   "source": [
    "N=int(input('N'))\n",
    "if N%2==0:\n",
    "    print('偶数です')\n",
    "if N%2==1:\n",
    "    print('奇数です')"
   ]
  },
  {
   "cell_type": "markdown",
   "metadata": {},
   "source": [
    "## 2. 整数Nが入力されます。Nが3の倍数だったら「3の倍数です」、3の倍数でないければ、「3の倍数ではない」と表示させてください¶"
   ]
  },
  {
   "cell_type": "code",
   "execution_count": null,
   "metadata": {
    "collapsed": true
   },
   "outputs": [],
   "source": []
  },
  {
   "cell_type": "markdown",
   "metadata": {},
   "source": [
    "## 3.整数Nが入力されます。Nが2の倍数かつ3の倍数だったら「2の倍数かつ3の倍数です」、そうでなかったら「Nが2の倍数かつ3の倍数でない」と表示させてください"
   ]
  },
  {
   "cell_type": "code",
   "execution_count": 10,
   "metadata": {},
   "outputs": [
    {
     "name": "stdout",
     "output_type": "stream",
     "text": [
      "N6\n",
      "2の倍数かつ3の倍数です\n"
     ]
    }
   ],
   "source": [
    "N=int(input('N'))\n",
    "if N%2==0 and N%3==0:\n",
    "    print('2の倍数かつ3の倍数です')\n",
    "if N%2!=0 or N%3!=0:\n",
    "          print('Nが2の倍数かつ3の倍数でない')\n",
    "          "
   ]
  },
  {
   "cell_type": "markdown",
   "metadata": {},
   "source": [
    "## 4.二つの整数MとNが入力されます。Mが2の倍数かつNが3の倍数だったら「Mが2の倍数かつNが3の倍数です」、そうでなかったら「Mが2の倍数かつNが3の倍数ではない」と表示させてください"
   ]
  },
  {
   "cell_type": "code",
   "execution_count": null,
   "metadata": {
    "collapsed": true
   },
   "outputs": [],
   "source": []
  },
  {
   "cell_type": "markdown",
   "metadata": {},
   "source": [
    "## 5. 整数Nが入力されます。Nはappleの価格です。Nが100円未満の場合には「安すぎる」、Nが100円以上、200円未満の場合には「安い」、200円以上300円未満の場合には「適正価格」、300円以上400円未満なら、高い」、400円以上なら「高すぎる」と表示させてください\n",
    "\n"
   ]
  },
  {
   "cell_type": "code",
   "execution_count": null,
   "metadata": {
    "collapsed": true
   },
   "outputs": [],
   "source": [
    "if N<100:\n",
    "    pass\n",
    "elif N<200:\n",
    "    pass\n",
    "elif N<300:\n",
    "    pass"
   ]
  },
  {
   "cell_type": "markdown",
   "metadata": {},
   "source": [
    "## 複数の条件に合致しても、実行されるのは最初に合致した条件だけなので注意しましょう。"
   ]
  },
  {
   "cell_type": "markdown",
   "metadata": {},
   "source": [
    "## 3.整数Nが入力されます。Nが2の倍数かつ3の倍数だったら「2の倍数かつ3の倍数です」,Nが2の倍数かつ5の倍数だったら「Nが2の倍数かつ5の倍数」と表示させてください"
   ]
  },
  {
   "cell_type": "code",
   "execution_count": 16,
   "metadata": {},
   "outputs": [
    {
     "name": "stdout",
     "output_type": "stream",
     "text": [
      "N16\n"
     ]
    }
   ],
   "source": [
    "N=int(input('N'))\n",
    "if N%2==0:\n",
    "    if N%3==0:\n",
    "        print('a')\n",
    "    if N%5==0:\n",
    "        print('b')"
   ]
  },
  {
   "cell_type": "code",
   "execution_count": 19,
   "metadata": {},
   "outputs": [
    {
     "name": "stdout",
     "output_type": "stream",
     "text": [
      "N250\n",
      "うるう年ではない\n"
     ]
    }
   ],
   "source": [
    "N=int(input('N'))\n",
    "if N%400==0:\n",
    "    print('うるう年')\n",
    "elif N%100==0:\n",
    "    print('うるう年ではない')\n",
    "elif N%4==0:\n",
    "    print('うるう年')\n",
    "else:\n",
    "    print('うるう年ではない')"
   ]
  },
  {
   "cell_type": "code",
   "execution_count": null,
   "metadata": {},
   "outputs": [],
   "source": [
    "N=int(input('N'))\n",
    "if N%4==0:\n",
    "    if N%100==0:\n",
    "        if N%400==0:\n",
    "            print('うるう年')\n",
    "        else:\n",
    "            print('うるう年ではない')\n",
    "    else:\n",
    "        print('うるう年')\n",
    "          \n",
    "else:\n",
    "    print('うるう年ではない')"
   ]
  },
  {
   "cell_type": "code",
   "execution_count": null,
   "metadata": {
    "collapsed": true
   },
   "outputs": [],
   "source": []
  },
  {
   "cell_type": "code",
   "execution_count": null,
   "metadata": {
    "collapsed": true
   },
   "outputs": [],
   "source": []
  }
 ],
 "metadata": {
  "kernelspec": {
   "display_name": "Python 3",
   "language": "python",
   "name": "python3"
  },
  "language_info": {
   "codemirror_mode": {
    "name": "ipython",
    "version": 3
   },
   "file_extension": ".py",
   "mimetype": "text/x-python",
   "name": "python",
   "nbconvert_exporter": "python",
   "pygments_lexer": "ipython3",
   "version": "3.6.1"
  }
 },
 "nbformat": 4,
 "nbformat_minor": 2
}
